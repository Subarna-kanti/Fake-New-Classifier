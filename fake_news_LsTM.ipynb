{
 "cells": [
  {
   "cell_type": "markdown",
   "metadata": {},
   "source": [
    "## Word Embedding\n",
    "\n",
    "Word embeddings provide a dense representation of words and their relative meanings.(semantic meaning)\n",
    "They are an improvement over sparse representations used in simpler bag of word model representations.\n",
    "Word embeddings can be learned from text data and reused among projects. They can also be learned as part of fitting a neural network on text data.\n",
    "in an embedding, words are represented by dense vectors where a vector represents the projection of the word into a continuous vector space.\n",
    "The position of a word in the learned vector space is referred to as its embedding.\n",
    "\n",
    "Two popular examples of methods of learning word embeddings from text include:\n",
    "Word2Vec.\n",
    "GloVe.\n",
    "\n",
    "Keras offers an Embedding layer that can be used for neural networks on text data.\n",
    "It requires that the input data be integer encoded, so that each word is represented by a unique integer. This data preparation step can be performed using the Tokenizer API also provided with Keras.\n",
    "\n",
    "em·bed·ding. to fix into a surrounding mass: to embed stones in cement\n",
    "\n",
    "The Embedding layer is initialized with random weights and will learn an embedding for all of the words in the training dataset.\n",
    "\n",
    "It is a flexible layer that can be used in a variety of ways, such as:\n",
    "\n",
    "It can be used alone to learn a word embedding that can be saved and used in another model later.\n",
    "It can be used as part of a deep learning model where the embedding is learned along with the model itself.\n",
    "It can be used to load a pre-trained word embedding model, a type of transfer learning.\n",
    "\n",
    "The Embedding layer is defined as the first hidden layer of a network. It must specify 3 arguments:\n",
    "\n",
    "It must specify 3 arguments:\n",
    "\n",
    "input_dim: This is the size of the vocabulary in the text data. For example, if your data is integer encoded to values between 0-10, then the size of the vocabulary would be 11 words.\n",
    "\n",
    "output_dim: This is the size of the vector space in which words will be embedded. It defines the size of the output vectors from this layer for each word. For example, it could be 32 or 100 or even larger. Test different values for your problem.\n",
    "\n",
    "input_length: This is the length of input sequences, as you would define for any input layer of a Keras model. For example, if all of your input documents are comprised of 1000 words, this would be 1000.\n",
    "\n",
    "e = Embedding(200, 32, input_length=50)\n",
    "we can also use pre-trained embedding layer"
   ]
  },
  {
   "cell_type": "markdown",
   "metadata": {},
   "source": [
    "## transfer learning\n",
    "Transfer learning is a machine learning technique where a model trained on one task is re-purposed on a second related task.\n",
    "Transfer learning is an optimization that allows rapid progress or improved performance when modeling the second task.\n",
    "Transfer learning only works in deep learning if the model features learned from the first task are general.\n",
    "\n",
    "Two common approaches are as follows:\n",
    "Develop Model Approach\n",
    "Pre-trained Model Approach\n",
    "\n",
    "Develop Model Approach:\n",
    "Select Source Task\n",
    "Develop Source Model\n",
    "Reuse Model\n",
    "Tune Mode\n",
    "\n",
    "Pre-trained Model Approach\n",
    "Select Source Model\n",
    "Reuse Model\n",
    "Tune Model"
   ]
  },
  {
   "cell_type": "code",
   "execution_count": 1,
   "metadata": {},
   "outputs": [],
   "source": [
    "import pandas as pd"
   ]
  },
  {
   "cell_type": "code",
   "execution_count": 2,
   "metadata": {},
   "outputs": [],
   "source": [
    "crp = pd.read_csv('corps.csv')"
   ]
  },
  {
   "cell_type": "code",
   "execution_count": 3,
   "metadata": {},
   "outputs": [],
   "source": [
    "crp_test = pd.read_csv('corps_tst.csv')"
   ]
  },
  {
   "cell_type": "code",
   "execution_count": 4,
   "metadata": {},
   "outputs": [],
   "source": [
    "del crp['Unnamed: 0']\n",
    "del crp_test['Unnamed: 0']"
   ]
  },
  {
   "cell_type": "code",
   "execution_count": 5,
   "metadata": {},
   "outputs": [],
   "source": [
    "crp_test[\"0\"].fillna(\" \", inplace = True) \n",
    "crp[\"0\"].fillna(\" \", inplace = True) "
   ]
  },
  {
   "cell_type": "code",
   "execution_count": 6,
   "metadata": {},
   "outputs": [
    {
     "data": {
      "text/html": [
       "<div>\n",
       "<style scoped>\n",
       "    .dataframe tbody tr th:only-of-type {\n",
       "        vertical-align: middle;\n",
       "    }\n",
       "\n",
       "    .dataframe tbody tr th {\n",
       "        vertical-align: top;\n",
       "    }\n",
       "\n",
       "    .dataframe thead th {\n",
       "        text-align: right;\n",
       "    }\n",
       "</style>\n",
       "<table border=\"1\" class=\"dataframe\">\n",
       "  <thead>\n",
       "    <tr style=\"text-align: right;\">\n",
       "      <th></th>\n",
       "      <th>0</th>\n",
       "    </tr>\n",
       "  </thead>\n",
       "  <tbody>\n",
       "    <tr>\n",
       "      <th>0</th>\n",
       "      <td>hous dem aid even see comey letter jason chaff...</td>\n",
       "    </tr>\n",
       "    <tr>\n",
       "      <th>1</th>\n",
       "      <td>ever get feel life circl roundabout rather hea...</td>\n",
       "    </tr>\n",
       "    <tr>\n",
       "      <th>2</th>\n",
       "      <td>truth might get fire octob tension intellig an...</td>\n",
       "    </tr>\n",
       "    <tr>\n",
       "      <th>3</th>\n",
       "      <td>video civilian kill singl us airstrik identifi...</td>\n",
       "    </tr>\n",
       "    <tr>\n",
       "      <th>4</th>\n",
       "      <td>print iranian woman sentenc six year prison ir...</td>\n",
       "    </tr>\n",
       "    <tr>\n",
       "      <th>...</th>\n",
       "      <td>...</td>\n",
       "    </tr>\n",
       "    <tr>\n",
       "      <th>18280</th>\n",
       "      <td>rapper unload black celebr met donald trump el...</td>\n",
       "    </tr>\n",
       "    <tr>\n",
       "      <th>18281</th>\n",
       "      <td>green bay packer lost washington redskin week ...</td>\n",
       "    </tr>\n",
       "    <tr>\n",
       "      <th>18282</th>\n",
       "      <td>maci today grew union sever great name america...</td>\n",
       "    </tr>\n",
       "    <tr>\n",
       "      <th>18283</th>\n",
       "      <td>nato russia hold parallel exercis balkan press...</td>\n",
       "    </tr>\n",
       "    <tr>\n",
       "      <th>18284</th>\n",
       "      <td>david swanson author activist journalist radio...</td>\n",
       "    </tr>\n",
       "  </tbody>\n",
       "</table>\n",
       "<p>18285 rows × 1 columns</p>\n",
       "</div>"
      ],
      "text/plain": [
       "                                                       0\n",
       "0      hous dem aid even see comey letter jason chaff...\n",
       "1      ever get feel life circl roundabout rather hea...\n",
       "2      truth might get fire octob tension intellig an...\n",
       "3      video civilian kill singl us airstrik identifi...\n",
       "4      print iranian woman sentenc six year prison ir...\n",
       "...                                                  ...\n",
       "18280  rapper unload black celebr met donald trump el...\n",
       "18281  green bay packer lost washington redskin week ...\n",
       "18282  maci today grew union sever great name america...\n",
       "18283  nato russia hold parallel exercis balkan press...\n",
       "18284  david swanson author activist journalist radio...\n",
       "\n",
       "[18285 rows x 1 columns]"
      ]
     },
     "execution_count": 6,
     "metadata": {},
     "output_type": "execute_result"
    }
   ],
   "source": [
    "crp"
   ]
  },
  {
   "cell_type": "code",
   "execution_count": 9,
   "metadata": {},
   "outputs": [
    {
     "data": {
      "text/html": [
       "<div>\n",
       "<style scoped>\n",
       "    .dataframe tbody tr th:only-of-type {\n",
       "        vertical-align: middle;\n",
       "    }\n",
       "\n",
       "    .dataframe tbody tr th {\n",
       "        vertical-align: top;\n",
       "    }\n",
       "\n",
       "    .dataframe thead th {\n",
       "        text-align: right;\n",
       "    }\n",
       "</style>\n",
       "<table border=\"1\" class=\"dataframe\">\n",
       "  <thead>\n",
       "    <tr style=\"text-align: right;\">\n",
       "      <th></th>\n",
       "      <th>0</th>\n",
       "    </tr>\n",
       "  </thead>\n",
       "  <tbody>\n",
       "    <tr>\n",
       "      <th>0</th>\n",
       "      <td>palo alto calif year scorn polit process silic...</td>\n",
       "    </tr>\n",
       "    <tr>\n",
       "      <th>1</th>\n",
       "      <td>russian warship readi strike terrorist near al...</td>\n",
       "    </tr>\n",
       "    <tr>\n",
       "      <th>2</th>\n",
       "      <td>video nodapl nativ american leader vow stay wi...</td>\n",
       "    </tr>\n",
       "    <tr>\n",
       "      <th>3</th>\n",
       "      <td>first succeed tri differ sport tim tebow heism...</td>\n",
       "    </tr>\n",
       "    <tr>\n",
       "      <th>4</th>\n",
       "      <td>min ago view comment like first time histori f...</td>\n",
       "    </tr>\n",
       "    <tr>\n",
       "      <th>...</th>\n",
       "      <td>...</td>\n",
       "    </tr>\n",
       "    <tr>\n",
       "      <th>5188</th>\n",
       "      <td>dysfunct plagu world megac none may pernici ba...</td>\n",
       "    </tr>\n",
       "    <tr>\n",
       "      <th>5189</th>\n",
       "      <td>washington gov john kasich ohio tuesday sign l...</td>\n",
       "    </tr>\n",
       "    <tr>\n",
       "      <th>5190</th>\n",
       "      <td>good morn want get california today email joan...</td>\n",
       "    </tr>\n",
       "    <tr>\n",
       "      <th>5191</th>\n",
       "      <td>previou next us marin deploy russian border no...</td>\n",
       "    </tr>\n",
       "    <tr>\n",
       "      <th>5192</th>\n",
       "      <td>perhap seen new tv seri whose pilot episod beg...</td>\n",
       "    </tr>\n",
       "  </tbody>\n",
       "</table>\n",
       "<p>5193 rows × 1 columns</p>\n",
       "</div>"
      ],
      "text/plain": [
       "                                                      0\n",
       "0     palo alto calif year scorn polit process silic...\n",
       "1     russian warship readi strike terrorist near al...\n",
       "2     video nodapl nativ american leader vow stay wi...\n",
       "3     first succeed tri differ sport tim tebow heism...\n",
       "4     min ago view comment like first time histori f...\n",
       "...                                                 ...\n",
       "5188  dysfunct plagu world megac none may pernici ba...\n",
       "5189  washington gov john kasich ohio tuesday sign l...\n",
       "5190  good morn want get california today email joan...\n",
       "5191  previou next us marin deploy russian border no...\n",
       "5192  perhap seen new tv seri whose pilot episod beg...\n",
       "\n",
       "[5193 rows x 1 columns]"
      ]
     },
     "execution_count": 9,
     "metadata": {},
     "output_type": "execute_result"
    }
   ],
   "source": [
    "crp_test"
   ]
  },
  {
   "cell_type": "code",
   "execution_count": 9,
   "metadata": {},
   "outputs": [],
   "source": [
    "corpus = crp['0'].values.tolist()\n",
    "corpus_test = crp_test['0'].values.tolist()"
   ]
  },
  {
   "cell_type": "code",
   "execution_count": 34,
   "metadata": {},
   "outputs": [
    {
     "data": {
      "text/plain": [
       "'hard work american vs govern parasit michael snyder april th lifestyl choic produc better result hard work american govern parasit actual look cold hard number may surpris america today deepli penal hard work greatli reward govern depend live liber area countri know game system entir possibl live comfort exist without ever work much fact american live govern benefit decad mani peopl actual plan live around exactli need qualifi mani benefit possibl america rapidli turn european style socialist welfar state destroy nation social financi ever sinc war poverti began debt absolut explod yet poor peopl countri ever obvious someth work get wrong deepli believ compass go tough time safeti net cannot take care singl person nation go without food sleep street america today absolut ridicul mani peopl climb aboard safeti net point astound percent american live home receiv form govern benefit pay peopl drag bed go work day pay moment let examin lifestyl typic hard work american compar lifestyl govern parasit america today median yearli household incom somewher around half american household make half american household make less break come month far go america today unfortun go far first hard work american famili need place live unfortun vast major decent job near big citi expens live near big citi let assum averag famili four spend month rent mortgag payment govern parasit hand whole host feder state local hous program take advantag recent econom downturn american ever turn govern help hous cost exampl feder hous assist outlay increas whop percent place live provid power heat averag hard work american go probabl averag month although vari greatli depend live govern parasit whole host govern program help exampl liheap low incom home energi assist program assist low incom household pay home heat bill averag hard work american also go need phone internet servic let assum hard work famili four exampl extrem thrifti spend month servic govern parasit cell phone servic problem written previous qualifi receiv free cell phone free cell phone minut everi singl month feder govern addit area nation low incom famili qualifi deepli subsid home internet servic order earn money hard work famili go need get work household parent decid work day need car let assum famili thrifti car purchas use car payment total month hard work famili also need auto insur two vehicl let assum parent great drive record pay total month car insur car also need fill gasolin averag u household spent gasolin let assum famili care spend ga month govern parasit well govern parasit need go work expens potenti elimin entir sinc thing paid govern deepli subsid mani instanc govern parasit actual abl afford nice vehicl addit new bill low incom gasolin assist program act introduc congress would give qualifi household money help pay gasolin low incom gasolin assist program act direct secretari health human servic make grant state establish emerg assist program pay elig household purchas gasolin hard work american famili also go need health insur well know expens health insur becom fact health insur cost risen percent sinc barack obama becam presid let assum hard work famili somehow abl find amaz deal pay month health insur famili four govern parasit health insur need emerg govern parasit go get free medic care emerg room cours alway medicaid back one everi american medicaid today one everi american medicaid thing get whole lot wors project obamacar add million american medicaid roll food everyon eat right well hard work famili exampl face environ food price constantli rise paycheck keep let assum hard work famili exampl clip coupon cut corner way spend member famili food suppli week come total month entir famili govern parasit govern parasit need eat well food stamp come right million american food stamp sinc barack obama becam presid number american food stamp increas million food stamp becom popular rapper even make rap video use food stamp card okay stand well averag hard work famili far spent spend month still need find money cloth pay credit card debt pay student loan debt dine entertain medic pet hobbi life insur vacat car repair mainten child care gift retir save wait actual money left forgotten one biggest expens tax total feder state properti tax averag hard work famili go pay least month tax put averag hard work famili hole everi singl month meanwhil govern parasit pay tax earn enough money tax start get pictur mani way life much easier constantli take govern instead constantli give govern new jersey governor chri christi recent put way bunch peopl sit couch wait next govern check dump kind nightmar economi written frequent u economi simpli produc enough job everyon anymor creat major problem everyon need help hand point alway compassion need howev also grow number american content simpli give live govern fundament wrong job u govern take care cradl grave u govern suppos make sure well function economi oper environ hard work individu small busi thrive sadli u govern fail miser regard desper need u economi fix hold breath wait happen econom condit get even wors countri million american go turn govern assist point safeti net go break countri go look like happen shock truth unemploy america one chart david h preach michael work financ industri tell mani applic see singl mother kid case differ father get child support afdc wic hous assist boyfriend ex husband live make k month peopl live better other work system one tell anyth differ addit issu anoth larg issu peopl barter paid cash avoid taxat complet go pay dearli arrog indiffer ignor rancher know often time would rather burn cash send govt pay bum sit home everi darn thing keep leach grasp prepar pastor briefli date woman three children saw realli game system subsid townhous apart nicer home util base incom made great dinner use food stamp last semest colleg earn bachelor degre ask plan colleg told go anoth degre could stay dole broke imagin free cell phone michael would say sure dodg bullet pastor michael joel want idea sress creat worker look toward belgium europ countri best welfar system birth death govern umbrella cours come price activ workforc pay instanc know immigr receiv money govern right live decent even without work bring famili alon arriv famili reunion excus turn right also amount money receiv euro per month expens workforc way demograph pyramid complet revers first belgian welfar system build around era full employ workforc made young gener babyboom everyth rebuild war babyboom becom papyboom right retir etc etc yet system base activ workforc made less young peopl underqualifi meant crash one day anoth see usa go toward european version welfar system huge mistak destroy foundat countri jo l misterd unfortun believ pass point beyond return best anyon hope miracl get readi inevit crash pray nobodi forc middl mess liter protect oneself crazi peopl etc ashley b final someon afraid say someth sicken see peopl leech system easi money food cours free know lot peopl live get food stamp ssi welfar etc free want work mani lazi take trash serious yet rest famili earn live work hard look bum drive nice car sit home day pump paycheck mean kid get wrong peopl honestli need help often donat needi differ pure lazi bum take benefit lazi work jodi say love pump paycheck mean kid true friend retir nurs seen lot young peopl hospit child good intens go colleg get degre go school get marri get pregnant even graduat without even think start good life financi prepar get medicaid welfar money job take care child sheepdog guarante govern parasit pay come judgement day mean cours never pay recoveryless recoveri great articl usual one main reason american sheepl revolt yet precis thank govern hand program current exist inde well said mani mani american actual plan entir lifestyl around whatev take continu qualifi unfortun rest us long dumpster behind mcdonald slob dive free food never go hungri revolut rewquir hungri peopl checkmat today america offer two viabl expect achiev actual hope chang believ one requir wield passport one way ticket oversea requir wield ak go option paul foster depend illegitim govern instal media fraud outright elect fraud like us realli da give exampl system flaw father work full time life paid tax forth doctor found canser late short time live work intil day fell could walk famili support finac best could go gover help food stamp gave dollar month w f buy shop discount store mani peopl use food stamp watch peopl got nice car nice cloth bag full food mean hurri back year old truck wouldent late work small bag crap food guess need lean milk system r p dad mondobeyondo month gasp explan come mind govern must use employ incom data realiti uncl sam flat broke much pride tell broke bernadett sick sorri hear ridicul even know say god bless poor dad go sorri jodi true known peopl life littl possibl get govern assist seem proud believ deserv question happen govern run money pay peopl depend long sound good noth see go back sleep ron think greec wm jodi go back sleep money run inevit borrow money stop come thers free loader clue like actual someth riot protest burn citi america consid futur event time nation cleans million million law abid citizen enjoy nd ammend work sure bear arm protect entitl zombi come take popul decreas cleans entitl crowd pleas sleep time prepar keep watch thing go get interest nation near futur jodi never go sleep seem like media ignor stuff treat peopl like time go back sleep meant ever watch zombi movi lot like govern check stop jame poor unemploy u never abl get govern role experienc like call revers industri revolut industri revolut time farmer attract big citi job paid high wage compar farm incom experienc high unemploy job never come back unless energi situat somehow revers unemploy peopl soon realiz someway get food feed especi food stamp govern assist start disappear unemploy peopl begin reloc rural area find home grow produc food sell rest incom situat start appear countri go colleg good invest anymor real need colleg nowaday medicin engin law would better take loan farm open small busi rather go colleg farm agrarian relat job make good money especi busi revers come fruition small rural town come back life support famili provid reason good life tom real need colleg nowaday medicin engin law medicin engin ye law last thing countri need anoth lawyer sorri michael mani problem face countri caus lawyer fear law suit tom sorri lawyer nowwthen good point find work useless bachelor degre still account pay back student loan even go bankruptci like advis instead borrow money buy farm start busi hard work would benefit famili corpor view expend busi expens busi fail loan could reduc elimin bankruptci mani kid brought told studi hard grow find good job parent tell studi hard learn run busi involv good wiseman would better take loan farm open small busi rather go colleg farm agrarian relat job make good money jame right money know mani peopl buy leas small acreag grow crop acr build cottag industri sick tire milk cow govern leech right thing starv beast need major news network never report trend happen peac revolut begun cours govern may react forc labor bernadett wow realli good idea agre mani level run presid need someon helm sharp mind creativ idea idea destruct come washington everyth said made much senc know pray cinderella man agre go back basic rural live becom mean end futur hope live superslum citi tommorrow ky survivor one step closer total control welfar state god help us josh highli doubt jesu would use term parasit describ fellow human da right would call leach anoth richard viper mathew jesu polit correct sweet christian laodocian america colin better term david h true would say get rear end work live abl least volunt time worthi caus help justifi free lunch rel draw ssdi social secur disabl volunt say help justifi disabl payment reciev need peopl world like sluggardli leach man work let eat proverb steve blog refer feed nanni state million govern valueless worker make k year perk rosi pension start draw turn unless doubl tripl dip parasit free loader dole altogeth parasit make half america popul stage empir exist say let collaps go hellish longer govern prop dog poop fiat money chaotic michael steve ye right written inflat compens govern worker get past michael klean system broken right anymor stop think right way someth go back sleep interest earn live spunkybunk lazi obes sister one parasit asham know worthless husband even bother show around us anymor know think less well five children high school dropout far great welfar system amrica reward loser sit around breed idiot paul nice famili famili valu gone day tax payer pay famili noth complain done prevent niec nephew drop high school bernadett sister lucki support famili help hard time bet support whole life success good job mom dad mattyboy start hide incom make extra cash thing legal hidden gone long time eu tax close want pay fed number reason wish revolt million decid pay tax guess would need million like make cash claim would also support flat tax abolit ir trust gov alway need money kathi smith total agre matti wish way get everyon pay tax pay check buy gasolin day would get attent paul http www thoughtsfromaconservativemom com number american depend govern jump welfar state consum feder budget mark landlord sinc longer manag apart complex seen michael write past make sad see countri gone use proud nation could anyth longer popul strong heart becom weak useless countri peopl think everyon els owe live tappedop umpteenth time dont get mad get even cant get mad youv labotom air food water program mind control yea laugh say get even well cant figur one well chemic weapon total remov abil criticli think game done toast go back danc star rodster gari pictur da would gladli pictur sistrunkqueen agre articl think american paid tax abl get type govern assist tax payer also unemploy need assist betcha appli dad vietnam vet qualifi food stamp say po mom want get aid anyway help make end meet explor sister wic need govern assist sign oh way got free phone great local call mckinley morganfield tax payer also unemploy error comput error review data resubmit cinderella man dude take tax unemploy check mckinley morganfield ye take fica end realli govern play charad simpli give less btw ss medicar suppos fund fica receipt red everi dc spend borrow money annual interest payment feder debt soon think continu anoth year year year rancher excus barf rodster big differ someon realli luck need help could get job problem said otoh someon want live gubmint stay home play call duti mw watch tv sir might gari brother luck sever time one point name month worth rent know took minimum wahe job pay bill refus ask gubmint assist figur would point return mal r name welfarequeen tatiana covington well let starv death done get rid unfit weakl klean yeah food power parasit go quietli night turn violent hunt skill anyth els believ comment got moder tell certain thing moder tatiana covington perhap world made free red ryan appear author writer two comment serious snif someth articl wast time read mere standard diatrib hard work famili filthi mass guy drink wall street gop dlc kool aid tom low baloney vast sea profession freeload drag world tatiana covington http www youtub com watch v nzspsovnvii featur relat hognutz ye one drag bed everymorn go work parasit feed littl longer feel end soon keep work million welfar depend alreadi gone economi simpli produc enough job everyon anymor creat major problem problem compani leav countri start obama took offic implement harsh environment rule environ issu way start implement solar power wind power etc thirti yr ago technolog alway ww germani alreadi make bio fuel potato vegtabl methanol ga cow shit uncl told back depress day would creat batteri bank hook gener windmil charg batteri power lite hous nite wrote jess ventura day gov mn call greyhound chicago pipelin peopl chicago would come use famili rel adress claim resid mn get welfar check go back chicago one individu said time go retir mn becasus easi get welfar yr old time democrat parti pound welfar drum want add peopl welfar roll state hell go pay state alreadi money problem need anymor sinc told confus let relat fact sharonj one reason georg bush would sign kyoto treati back presid irrevers damag would u economi obama done way look happen mix togeth ptb desir creat global economi somebodi pay price obviou neither democrat republican care either old phart tell point gun way peopl countri stupid lazi need get fat ass quit stuf face full potato chip get educ job truth hurt tire see hard earn money go deadbeat live nice easi life one ounc respect peopl make happen gay veteran problem compani leav countri start obama took offic pure bs know obama fan outsourc start mckinley morganfield protect fool folli action fill world fool want someth subsid want less someth punish name compass reward fool made bad choic subsid bad choic gener gener punish frugal hard work via regul tax low interest rate democraci danger creat class citizen benefit frugal hard work other rob peter pay paul work run peter rob compass truli needi fault leech must starv blood suck way mondobeyondo system seem gear toward reward parasit truli honestli hard luck situat need help hand speak parasit leech decid make govern depend career choic ladi ahem use term loos accustom pump babi everi coupl year get better benefit food stamp aid depend children wic child support hope sugar daddi knock come way month even move bloat gluteu maximu okay obes donkey couch life grand govern assist program creat leech suck lifeblood hard work peopl anoth richard govern assist program creat make mass depend upon gubmit roosevelt said noth happen gubmit accid gubmit undrestand human natur well depend human becom freebi cooper gubmit attack honest hard work peopl produc thing real tax payer produc good servic want freebi stop gubmit leach parasit mass defend gubmit giveaway death gubmit know when dinner simpl everybodi want eat corn nobodi want plow field tom low lot us mind plow field fact actual enjoy mondobeyondo hope feder incom tax money ye pay year go help lazi pathet sloth know know exactli go start get angri like angri thank incred hulk intent take advantag system someon go play johnni cash ring fire funer sayin infuri aspect welfar system unrealist unsustain welfar state slowli sure strangl economi higher tax regul overbear law destroy abil busi surviv inevit unsustain benefit end like end greec parasit freebi stop starv like domest pet turn violent either way night mare similar post apocalypt zombi movi piti life tri avoid eaten aliv parasit current live govern tit tom low believ one reason built camp fema great articl michael certainli articul crisi slowli strangl life countri read articl feel abl look futur see nightmar end least see prepar share articl everyon clearli frame fight countri ultim surviv michael thank share articl articl may seem littl harsh truth societi could use tough love michael need give tough love real parasit corpor welfar michael think find articl post michael tremend slap face everyon work struggl everi day make live provid famali pat let also add europ garbag man make much incom physician neither fire incompet incom tax place high deduct govern direct competit busi littl fish hunt pollut rife go univers must regist live even name chang approv court want use name approv list peopl live small flat often without bath tub spain kitchen denmark shower tub protest must approv govern welcom futur mani sector u educ system mani schoolteach fire incompet mani suspect teacher teach leader tomorrow futur teacher teach futur biologist musician artist plumber scientist web page design doctor veterinarian name job teacher highli underpaid athlet coach dean well compens cours mayb import tri garbag worker go strike month soon realiz essenti view abroad like stay albania seem speak scandinavian countri sweden finland denmark norway vast major even top incom tax bracket approv see superior educ system overal effici govern even welfar system ye right govern choos e g wast manag ecolog recycl max instead leav like baron sanit rememb soprano realli think better matter rural europ much fish hunt rural us cours mayb much fish e g thame rhine go fish downstream hudson river see catch surpris quit lot go univers without burden student loan rest live mostli free except elit institut mean elit rich ye ye coupl immigr cologn germani year ago want name newborn son osama bin laden http www spiegel de panorama html sorri right wrong turn brutal fascist jackboot civil servant horribl well get afford even europ heard rumor somewher germani even franc flat water closet never seen one poor old european oh ye horribl luckili us ralli amount peopl time like let get taser thug call polic gari stop speak truth ruin lot low inform foolish republican conserv world view correct like said realiti well known liber bia marcu eastern europ year ago scandinavia quit well atm would say less welfar usa pay tax get healthcar well live nice hous new car eat good healthi food almost servic privat even one financ tax n consid rich middl class opinion middl class actual grow way countri oil ever europ mayb romania idiot gwyn sick hear wonder live govern hand one start work age health back went done manual work life stand min need sit live month get food stamp winter may get winter heat hous month cold winter use give cool summer end could help peopl winter need car could afford repair broke mean friend pay ga money cab shop bu go doctor also medicaid wonder either grate go clinic wait month six week appoint go emerg ward also pill chang time state decid get better deal anoth compani good live one tower pay incom lucki famili left part ownership hous properti tax pay hous insur repair get free phone internet pay tax go pay money doctor pill lot agre live like mean entertain bake bread clean hous chair also cloth second hand goodwil lot visit peopl day get sick idea poor pay tax bill get kind tax anyon use servic pay well much less less fun less go less buy lot food live see far take rest come monthli check love dream everi month sit sofa till idea like live pain live problem come live look forward fear watch state feder govern talk thing need cut give peopl live fanci hous money want vote man presid bank account place like island countri special bank law make mistak know cut come go easi goodnight million dollar congress men women keep golden reward know neither parti friend also know game play work peopl money got rip instead yell head offend worri less denni articl betray hors famili mani liabil everi month pay much tax part though pay near much rel wage earner pay also suspici articl mention corpor welfar usual receiv twice much social welfar recipi let forget lobbyist locke martin contract except glorifi corpor welfar blackmail corpor pull municip promis build factori environ exempt pay local tax nah articl republican democrat crap blame us hit hardest consequ war wealthi laid live infrastructur job wast surpris find site tom low articl quit clearli direct profession freeload unemploy peopl jeremi disagre much michael predict assert articl nation come brink mani time write elit welfar wealth hoard time fair leonard dear michael take away everi singl benefit peopl end creat plenti crimin street end jail get free food free air condit librari internet free health care mani mani year come mention articl time ago somebodi check jail kind fake holdup order get health care prison think end pay bankster fat cat corpor good luck rememb everyth price job social program somebodi give hire job ship oversea million work peopl happi lay off end pay one way anoth mani peopl go becom success like bill gate steve job almost everybodi good luck rememb play lotteri next time anybodi win let give solut michael let bring job back outsourc last two decad go happen cours michael leonard ye write free trade trade deficit peopl understand happen michael vyselegendair econom condit get even wors countri million american go turn govern assist point safeti net go break countri go look like happen egypt chao major metropolitan area around nation mayb drug entertain infus simpli throw hand pull pant big daddi govern oh forget mention amount peopl take subsid anti psyochot medic peopl suddenli come expens drug let us hope violent outburst reach level well known mass murder associ come ssri like sgt bale afghanistan curt ye insur cost gone peopl unemploy exampl industri whose greed boundless let forget top coupl percent incom maker paid share could mean clean water educ health everyon planet certain parti tri sink system without come altern world would anyon greedi want privat natur resours industri ruin countri greed legaci stan top race war riot come citi near black panther doubt get suit boot arm race war never end let tell someth thing happen honki cracker pig pink peopl mother turtl peopl long overdu happen one honki cracker pig pink peopl mother turtl peopl might end dead reason white nexu amaz number self righteou pompou individu us never welfar state like depend system evolv placat mass us economi declin peopl adapt game system expect happen million job ten thousand factori close shore china india etc million unemploy go payment food stamp etc way keep idl mass passiv point end us bankrupt auster measur introduc mani payment withdrawn food stamp unemploy benefit medic support etc get wish reap consequ paul common sharehold contribut success compani sharehold true parasit draw money compani noth return paul depend ye sharehold manag chairmen bureaucrat politician paul hong kong everi citizen right medic treatment public hospit entranc fee usd paid vat hong kong hong kong peopl pay incom tax max incom tax gross salari minimum hong kong govern debt last year much money left paid everi hong kong citizen usd addit gave everi tax payer tax rebat usd wrong de malfoss ever sinc war poverti began debt explod certain amount accuraci write war poverti ran alongsid hors imperi race viet nam war viet nam war direct sourc american monetari difficulti today argu debt explos much much mainten uncl sam empir imperium tremend amount american tax continu flow outward neighbor welfar suggest welfar bum easi obviou target deliber promot uncl sam divert attent empir year histori perpetu conflict war interfernec affair nation exampl countri xxx offend anyon receiv averag million day year american taxpay back qualifi gov parasit neighbor welfar damag entir compani say lockhe martin gov teat sinc truman presid tom low excel point although clearli directli relat topic actual see ground work night day month year colleg long ago complet abl bodi guy never bother go school noth month smoke dope get neoisolationist work wife work long time unemploy would one percent collect govern benefit want unemploy intend vote current administr come novemb lot percent want continu scam system say group like wife think percent enough percentag could wrong cours recal hear obama want get percent popul get kind govern assist think would agre percent alot enough michael america today deepli penal hard work greatli reward govern depend thing franc longtim disabl could govern benefit support get job get busi mani tax benefit disabl stupid world chri great articl michael usual imo overlook critic compon problem breakdown famili structur know fulli awar thought could use mention cold day hell anyon famili accept sort assist gov jazzag miss three import area govern depend articl one liber blue state pay feder tax get back excess goe conserv red state whine govern could exist without excess govern contract militari base etc state old confederaci get almost back everi dollar pay two greatest amount welfar countri money taken tax middl class subsid rich big busi exampl privat prison industri privat prison privat compani run prison becom lobbyist bribe lawmak make law make thing illeg prison revenu three peopl kid deduct pay less tax point essenti zero tax kid mother welfar ye also republican get away pay littl tax guess make differ us fewer kid gener liber peopl also pay full freight properti tax fund public school hypocrisi conserv moron astound say let get rid public fund school end corpor welfar guis set loser southern state watch size feder budget plummet gari correct michael never acknowledg speak truth let fact get conserv lean welfar church pastor hous err mansion tax free want subsid rich paster megachurch poor michael ever goiong real fact welfar point church biggest welfar scam jazzag right forgot church pay tax yet butt way onto everi polit convers use power church promot idiot idea welfar bottom exist prevent riot street welfar top reason govern exist gari church pastor home tax payer subsid mega church mansion also tax free barn cat new gold rush tri qualifi ssi consid legal disabl tom low sprain ankl walk job interview qualifi ssi dave hello read blog time good read non mass media propaganda howev subscrib notion usa rest world descend anarchi overnight continu gradual declin next year far mere policymak blame system oper perpet growth fuell cheap energi energi rise monetari cost also energi input cost econom contract inevit peak oil definit shale tar sand prove get desper time perhap peopl may need return rural agrarian lifestyl pre indutri age order surviv sun stil rise set think anarchi come either least live slow decay order whatev happen would rather die help fellow man content life lucki go defend stash dec rubbish fyi calendar gregorian end everi year funnili enough still around anoth richard powerz hold rip cord gargantuan unpay debt usa europ satisfi ever grow level debt pull rip cord trillion deriv end timelin commenc new world oder mean order believ startl frighten sudd sever collaps jack leper unit state govern parasit hard work peopl gari journalist chri mooney discuss new book republican brain scienc reject scienc realiti new book republican brain scienc reject scienc realiti scienc journalist chri mooney survey grow bodi data explain signific think author mistak assum republican brain begin chuck govern biggest parasit michael govern feed hard work american lifeblood chri hmm although popular thought realli feel govern hand dime anyon reason church suppos suppos help widow disabl poor etc anti christian societi given better state expect govern take care push church church still take care though matter kind rule gov tri push side note realli burn call atheist anti christian etc would tri justifi jesu would want social govern take care peopl via handout complet differ bibl read howev jesu knew clear peopl take care famili hardship hit church specif church member other congreg suppos help sadli church goer self absorb bibl defic will help church member think govern ugh catch sorri rambl great articl hit nerv eric ferguson articl exampl america go massiv debt gone nation maker nation taker peopl content sit receiv enough money govt live yet peopl like go work support lazi peopl nowwthen countri grew said rememb day anyon high school diploma mani without one could find job live wage smokestack offic build countri need worker gener hate thing devolv semi socialist societi michael paint corpor lobbyist convinc countri leader buy belief toss u worker world labor pool somehow good us ten million job lost result add technolog unemploy caus robot computer replac human labor wonder unemploy underemploy remain record level person exhaust week unemploy lose job held year like reason govern caus job go away govern must pay took guess refer moral hazard like think american would still prefer work job paid decent wage rather stay dole sadli happen long good american job elimin lopsid free trade polici product gain result autom less human labor jeremi think clearli make good point winston smith though agre asses lack job good pay one problem part result statement encourag train peopl nation boss employe wage slave depend other guild destroy larg reform usher dog eat dog selfish economi highli individualist said guild could provid train placement apprenticeship benefit health insur etc rcc laiti land associ usa britain due lacklust support clergi none protest depress ww ii die vine purpos train men famr buy rent farm provid other ditchl surviv sort men might gotten train nowher go noth buy use rent afterward continu unemploy stuck filthi citi mani reli lot readi cash equiti suck buy franchis lot get loan whole lot buy buis plu train open bar grill great would love know first thing payrol tax hold order product etc pete ye true accur inform month unemploy job offer th former salari cost everyth twice much choic get back work suck like good sheopl best drive spear beast heart tri kill merci kill actual boil buckl stiff upper lip shoulder wheel nose grindston give go idea support crook deciet errant polici loos game go merci help put ail beast us economi death right wound danger anim get wrong possibl nurs back health board howev bernank politico decid inject growth hormon diet five hour energi drink practic good medicin evil want see suffer anim put sleep tom low happen year ago swore kill beast know go win tom low btw got zip unemploy corpor pig zip got right job low pay walmart crap jeremi anger last juli still account god action requir work best apostl paul work eat miseri websit help either use visit site daili realiz provid key fact knowledg futur give mani day difficult trust find peac valley side encourag peopl actual good job servic bless take bar exam juli look adventur god take gemtap track use make pay back whent get real job debtor prison cinderella man good topic michael know dad get infuri around tax time work unemploy expir work underground economi paid tabl work breifli get snap assist caus way feed im work read articl like often ask work tax time piss alreadi told welfar mama got back eic also get section hous assist food stamp basic produc illegetim children appli aid presto set life keep work fool million welfar depend michael almost everyon need help point key pick back get help exactli blame go temporari troubl gotten comfort live system year year never tri get troubl michael davidmpark exactli side late thing realli work work govern contractor wife becam sever disabl year ago left get part time merchandis job big box closer young kid safeti net live big liheap fund month worth util per year paperwork cost us process mail hour fill photocopi medicaid limit kid disabl cover everi month fill page review send relat document prove everyth claim time either miss document enough info laps day social secur disabl trial half final got full disabl year document law firm much per month sinc realli hous assist everyon els alreadi program wait list year almost goe rent kid onlin charter school well actual read math school district abysm failur qualifi discount free internet cut servic month appli unless let kid fall way behind qualifi cell phone discount free caus still work part time need quit get one wife loos medic coverag other fun system spend time wait check spend lot time tri build afford creat util grow food look better job work home said sever disabl need get got work till lucki seizur someth stay home day clean hous help kid school fill paperwork cook bless stuff workshop go bed paradis near hell know profit much program know us experi work feder govern sure bureaucrat run program live sweet life guy make per year salari alon spend time meet tom low case illustr realli need help difficulti get system clog rank freeload know numer fulli abl bodi mental compet peopl get ssi larg veteran mental disabl payment noth actual alcohol pill peopl knew guy get plu ss concoct mental disabl ptsd militari helicopt accid come liar actor even combat came th month whine alreadi broke well live van past year freeload phoni ptsd disabl spent day live tune per day show broke whine th self suffici peopl way share dumpster meal keep roof head sent camp fema speak often work littl per hour mani year think sort automat minimum wage better realiz thing intend surviv davidmpark thank tom mondobeyondo one need see govern effici best go local depart motor vehicl offic get vehicl regist counter avail two employe two counter assist custom peopl sit stare screen chase kid alreadi bad sign press littl green button machin near entranc ticket read number loudspeak announc serv number come even post offic better gari employe dmv right wing gov like soon replac walker cut cut cut stop vote repub dian c realli peopl like need help abl get enough problem entir system govern broke realli take advantag realli need would think govern big bloat would enough peopl check thing howev would effici order govern certainli wish famili best davidmpark davidmpark okay need clarifi thing wife actual disabl sever traumat brain injuri caus epilepsi thing coma almost year relearn everyth cost life real easi fake ct scan numer test second know game system give em request info tell get honesti pay guy point hate program use ebt card public embarrass thing stare cashier give damn hide card best swipe quickli stash eyesor away receptionist doc offic ask insur alway whisper answer gov peopl want someth right good pass law void zone law famili legitim disabl member capabl rear anim produc thing limit guy want us castrat program serv food storag pretti basic someon mention program take kid forc wife assist live kind partial divorc societi want stuck phillip sherwood peopl person know work system get rich tread water sinc doubl famili member work low wage job work system enough eat children abl access health care mani caught drug abus alcohol hardli abl maintain work hard low wage job work agre one level throw money peopl worthless cut bad sinc children one suffer rememb church grew work monetari polici individu assist genuin care pastor went great length assist member mental ill mother neither pastor church got thing except right thing done peopl knew man congreg care youth pastor said brother keeper thought refer specif scriptur fumbl answer bibl clear cover cover answer tom low miss whole point articl state mani freeload burden well intent system design truli needi never say even impli needi peopl get help say peopl needi rob system stan agre govern susten program burden howev burden inevit sinc govern defin success increas budget get mani peopl reliant alway grow program free loader definit alway happen politician openli feed peopl guilt put support ridicul program equat charit give money privat support program support govern take money creat program thing govern alway ineffici gari brother keeper passag michael christian site stan gubamint program suppos make rich intend keep captiv low level susten politician get keep vote play system put vote block ensur continu candidaci goe program home mortgag interest deduct hope lifetim learn tax credit student loan child depend care tax credit earn incom tax credit food stamp miss none provid peopl need get hook like crack addict tell friend break away govern handout find way success insid everi singl one us god given need unleash stan believ point may taker giver societi politician open vote give free stuff safeti net politician leverag vote block destroy countri polit greed power money entic weak becom weaker accept bribe immor illeg destroy drive success self relianc determin american michel idea much hit home god bless jox unfair disappoint articl talk piti state thing america suddenli without justif equat european style socialist welfar destroy nation social financi even wors end pictur noth content articl like social ok let discuss argument method pick someth like associ somehow social unfair appropri otherwis brilliant articl exactli far left blame problem world america capit way let inform social econom advanc prosper countri world european socialist social democrat word exist english go hard time find argument ethic polit countri model everybodi tom low everyon europ know europ biggest freeload entir world biggest tom low fact europ noth whole subcontin wholli dedic freeload rest world centuri gari michael becom idolog right wing warrior fact whatev hear fox longer think self crap probabl transcrib rush pill head bimbo show downwithlib see even screw loos sad piti knightowl well model would like emul see year ever think support gov ts take one group provid anoth role gov would care subject keep barn cat lot govern job necessari job lot peopl incred arrog think god work govern saw work censu superior deal peopl work depart commerc peopl noth compar god bobbi line appli bernadett everi time read someth like make blood boil mindset make fight tooth nail get ssi work life pay dissabl list ill longer left arm ssi deni tri find way drive mile away go court hear peopl seem think easi get gov help need tri get ssi benefit sinc final becam sick work work year ill got bad manag bernadett btw would much rather abl get go work everyday like use miss work ridicul think peopl creat creat work would rather sit sick could get hundr dollar everi month free talk social hitler mind set let strong surviv weak go wall believ mani believ public assist church suppos take care sick peopl like gov church suppos rob old ladi ss suppos care christian certainli complain servic assist sick old peopl oh well come wash jesu get back even pleas come quickli lord jesu cinderella man bernadett woundnt mad get ssi perfectli healthi young teenag someth say depress bi polar get sit around goof day rest us foot bill btw reason peopl depress govt tyrran materialist tom low exactli phoni patient ptsd phantom pain pill puppi gari christian hypoctrit max one need read site proof stan left behind anoth richard wrong christian hypocrit christian trueli christian anoth news flash buster god see heart person alon know true hypocrit quit wast energi tri pick true christian useless examin life relationship god best thing could other ozmo thank much post would well everyon live cent stan like govern creat program big promis make near imposs attain move goal post mid game extend qualifi year farther farther steal bankrupt pander vote block retire near retire garner vote one bastard first place problem keep believ sob everi time speak wari politician come gubamint program take care us besid enough live get would rather kept money year still go instead give ripoff artist beef work whole life believ promis politician issu bastard redund politician make fals promis leverag vote promis free stuff go straight hell mondobeyondo rememb scene movi titan jack ask rose hold onto hand ship sink jump jump wrong scene scene ship take final plung bottom undertow would suck anyon near ship water usa titan peopl abus system depend u govern surviv drag underwat alreadi underwat mortgag wink wink suck everyon els along chri pyramid wealth could describ popul would parasit top bottom top also live parasit exist mean peopl like banker ceo other produc noth get rich scam basic live parasit exist actual work middl pyramid middl larg popul underclass genuin hardwork peopl game system middl support lower upper part pyramid host support certain amount energi go parasit live much energi lost mani parasit host kill stage must get close top corrupt fraud greed set exampl follow face corrupt top indol middl lose heart see support unjust system may give citizen paramed year continu see thing worsen peopl use call em love one sick seem free taxi servic sadli realiz care haul around someon may actual need servic even though pay foir give peopl hand get tire third pay go buy cell phone minut like built hous payday payday land famili put feeder pig calf broke sod acr ground garden wind power breez underground spring site mean let collaps parasit forc work michael good articl michael use free taxi servic sad michael citizen state wv individu activ em give reason state hospit want go take even give us name choos call call haul top mani use non emerg ambul want spend money ga bu go dr visit non urgent medic love state wish state would reform system could save countless money live optimist oh yay get built hous paycheck paycheck million us paycheck ceo parasit parasit churn grab money job outsourc golden parachut whatev job gone come back grossli smug superior lost hous prep homestead homestead thing year without good sourc incom busi fail year ago lost think singl second invulner incap lose paycheck lose mayb deeper understand realiti parasit forc work hate think want job fool hate fool pleas read karol comment real parasit top dc corpor boardroom citizen smug fool mean harsh auster home eat ramen bologna sandwich work til morn hous get work even claim tax credit borrow bankster scratch odd job day smug guess shoe fit work system live lap luxuri gone without provid roof food famili ye prepar come hope feel anyon loos job realli comment meant condescend toward anyon say timeless today ever judg man travel footstep libertyin interest repeat other said would like add believ govern benefit safeti net thing govern tax read steal produc assist read redistribut other poor receiv benefit entitl sic connect elit get welfar govern set safeti net exacerb problem may exist price skyrocket provid know increas back full faith credit us tax payer hurt peopl program intend help first place assist done privat local chariti way truli temporari help hand someon hit hard time organ church monitor fraud progress claim work never read step altern pile child prostitut die old peopl street tri make way sweatshop job standard live increas like histori never seen peopl allow keep fruit labor one incom household could support peopl children better educ new car applianc etc progress model standard live decreas drastic everyon contribut household incom need hop safeti net reach unpreced level lastli even produc lucki enough retain earn tri defer later consumpt hit hidden tax inflat destroy wealth actual decreas purchas power made possibl crimin malevol action feder reserv karol hi michael thank write honest inform articl longer watch news read local paper mostli rubbish websit fascin recommend site friend famili bodi like lazi cheat game system live fed parasit wall street fat cat politician crimin c game system decad expens rich crook stolen billion american peopl far food stamp famili ever life time bofa paid feder tax got billion dollar rebat well read paid feder tax either compani make billion dollar give million dollar bonus everi year pay feder state tax tax payer rob local level polic fire station affect school bridg road repair parasit send children best school vacat world multipl home tenni court pool multipl car jet get eat best food probabl cook hous chef housekeep nanni best health care money buy could go disney multi billionair compani got welfar firework display multi millionair sam donaldson got welfar mohair realli school suck minimum wage adjust inflat hour peopl get screw time half time vacat time pension health care etc work lucki get hour week wage theft best way steal peopl ignor even realiz rob work privat club boston dock paycheck week work poor singl mother richest peopl felt need steal week wage wow afford work free quit begrudg obes lazi unmotiv scam system realli especi sinc benz jag driveway lawn servic patch grass maid clean sub par high fructos hydrogen sodium lace junk food dinner get fuel assist keep warm eat food stamp dinner watch judg judi good michael karol ye written mani articl corrupt bankster elit well definit side michael mr g larg right karol mani peopl well would far better dishonest bother us today real earn privileg lot lot unearn unfair big cash go fat cat ruin countri time get money mean could least good job cash think even tri realli good luck jimmi citizen find vote money e democrat parti alreadi occur system head straight hell destin failur khristu honestli fix problem like need free energi possibl held corpor own banker govern control one thing ad list divid peopl keep docil long movi hr stuff may way open mind describ food chain bank corpor govern peopl well http www youtub com watch v lev affcz grandpa parasit speak live miniscul turd dispers leech thrive oxygen burn rich vs poor black vs white gov vs god someday peopl may get ball revers genocid play upon us corey lewi wow great articl love ex wife one friggin parasit year best rais kid lifestyl dead rot bodi say peopl never work hard refus work hard deserv resid countri put boat ship even pilot boat rick know least one parasit particular live older sister mani year final divorc leach govern subsist type peopl one thing common employ stan rest govern job ever dmv nobodi special low incom gasolin assist program act introduc fortun gone anywher sinc mention let give idea reviv mike person lose job first thing appli unemploy run save run food run kid honestli think govern let live dehydr food shelf basement foodstamp medicaid take kid show proof incom regardless hous paid enough money time pay bill anoth year first time take kid e r someth open whole crap worm insur stitch bike accid kid medicaid foodstamp tri posit govern wast use give foodstamp restock shelv next go around pleas answer question situat even neg one get site daili first comment michael make good point michael tom low person talk talk lot fulli abl bodi peopl scam gummint benefit also work underground economi year year tex yeah hypocrit alway talk person person front real need ye abus experi peopl would rather work money walk work broken glass jump hoop bureaucraci demand meager pittanc fact us economi toilet sheepl go let romney flush enough job even cash economi hour job pay rent feed man kid altern peopl work govern system eat turn crime justic street enough gun countri turn tide start think time quit rhetor get real go end badli us mondobeyondo forgot kid aspect situat children whoa talk grow fast children dire situat need ask budget erheault wander road total autom industri need middl lower semi skill labor dwindl unemploy unabl work multipli face revolt nation past present undergo work unknown happen us dont matter presid congress nation countri histori surviv devalu moni massiv unemploy head enjot ride histor say least bryan simpl peopl nation gotten far god reap sow matter time lord jesu christ return mark beast come see u mare debt european countri alon look happen matter time much lord know wheter believ amaz see propheci fullfil right front eye fix huge world financi mess read revel chapter turn heart god still live age grace monk cut spend donald wilson bum live like vultur live system crash burn one day later tom low landlord lower middl class neighborhood lb lb lack food time cook almost noth profession freeload far eye see could tell stori freeload would make blood boil right hope gummint final stop issu absurd freeload check benefit send profession freeload camp fema right next bankster crimin right belong get dead butt start someth mean mayb cinderella man good man need bulk protien powder high fructos corn syrup immedietli that skinni offens tom low scari surround sea human sinker mean everyth half need done enough time money eat well enough especi coffe cig feed sever spoilt cat whatev els might decid indulg like sever hour read blog comment ok ya caught eva yup good time job growth prosper get rid man oval offic replac someon take creat busi friendli environ serious return congress baselin budget sinc budget reform act add annual feder budget regardless necess hardli need add regardless feder revenu sharonsj articl like piss right winger like blame anybodi struggl surviv never attack corpor welfar exxonmobil earn billion year past four year paid tax got tax refund corpor get away murder rob us blind exec prison let guy steal food grocer caus afford buy meat land jail know remain amaz stupid american public swallow republican talk point folk learn look fact comput instead ye men help repub steal left countri michael written quit bit corpor pay tax corpor welfar take place michael gari articl poor corpor welfar come michael see bs michael gari know hit goldman sach far harder hit poor michael gari said corpor welfar goldman suck bash poor way corpor welfar far bigger cost sharonsj economist richard wolff point last year corpor along govern rig system pay cent tax tax paid averag citizen also said peopl understood screw second american revolut michael ye discuss corpor taxat quit bit articl post michael winston smith true never seem upset conserv benefit lot big govt big biz answer lower tax spend get govt way el pollo de oro call gc three gs gun gold getaway plan gerald celent michael snyder write econom condit get even wors countri million american go turn govern assist point safeti net go break ye break god help banana republ america formerli usa thing go get realli nasti third world nightmar often said go get tough desper desper thing rob steal sell drug mug carjack kidnap thing make danger live caraca ciudad juarez port moresbi guatemala citi kingston long list third world citi high rate violent crime collect dread desper peopl desper thing tax dpddtt wealthi minor end pay surround dirt poor major think peopl realiz evil abomin countri becom alex jone america place use look declin go countri anybodi believ dollar go reserv currenc beyond gerald celent third world countri ultra danger visit morocco lot poverti lot violent crime lot tout tri sell carpet need definit see bra move direct realli violent danger third world countri kidnap way life cop often cahoot thug think baltimor detroit philadelphia st loui bad wait worst yet come rural place necessarili go safe either know hit fan small town mexico extrem danger cours smart prepper understand thing one listen alex jone gerald celent paul craig robert gari johnson ron paul realiz guy alarmist tell like truth pretti gun recommend keep safe secur place know use gun come handi dpddtt collector come knockin banana republ america william real govern parasit actual feder worker gs wg feder employe grossli overpaid littl work almost imposs fire one slacker get tenur brother law retir gs last job wash dc took newspap magazin work read anyth civil servic wage grade feder worker sit around littl except read benefit manual hard fact tx life tv offic paid taxpay watch sever hour day one want confront ignor let go also watch tv good portion day work job requir gs wg hour even though prohibit one want confront look way come go pleas never list time weekli time card requir end year take decemb use lose accumul time continu grow wors one will anyth tax rate month even crazier think quit wide margin add love see find rent lo angel anywher tri minimum live hell bed fold wall serious consid build cabin nice land middl nowher buy year suppli ramen noodl hear feed call thing year mr g known plenti parasit realli work system amazingli well work chariti relat job citi found peopl come latin american countri welfar form fill even got plane come rotten also rotten realli tri often get help know much welfar scam will help need deserv tend help deserv exampl mani poor american kid read get special help foreign nation go parent get educ work fanci profession job get special english tutor tax payer dime go wake help never never turn help come one reason cannot even support republican anymor never support democrat mean spirit mani peopl never daytoday good articl michael take time away doom gloom although imposs escap entir agre articl know peopl st hand welfar famili welfar govt assist adult live work walmart one time one guy work use construct worker welfar yr cut receiv month welfar compar month work walmart understand peopl choos leach system forev liter pay depend independ stay strong keep good work david gurney new gop slogan believ hope must dope mad max truth none us realli work hard anymor get mad peopl discov first sucker want work hard work modern extens slaveri ancient time peopl want becom rich want free free want pleas jade fool want work hard jade fool would critic other want kill make someon els dream come true rather spend time famili thing realli love think care work butt care work butt stupid persist nonsens guess gotten wish behav like slave complain treat wake read common sens http www revolut osix org fight caus symptom els say free http wearefre osix org john rambo nevermind welfar peopl women women bankrupt america suck system dri special women right privledg also drove away big corpor afraid frivil lawsuit women american women sue happi sue compani employ stupidest reason realli blame corpor outsourc countri radic feminist like american women main one destroy america femin destroy america go start blame real culprit michael go grow ball start speak truth instead water like michael michael john rambo ye rare call women feminist main caus behind econom collaps america also american women destroy ten million men live financi divorc court financi destroy ten million men live help economi either go directli expos women primari culprit behind collaps tex joh rambo sure rick santorum slum gari ive paid system peopl use person know peopl use system get ssi one disabl rest lie get ssi lie keep say depress back hurt etc etc etc read coment funni peopl diserv ssi none peopl lie get give back money shouldnt help stranger money paid hell could retir ive paid sinc im man get dam job quit fake work period know take four five yr didnt stop bum know dont forget tell peopl back pay money sorri come shouldnt support stranger help famili one els includ food stamp get one third money taken tax etc spend get tax dont care shouldnt rais child get job even flippin handburg enough enough sorri taken coma ran sentenc togeth youll get point gay veteran ever sinc war poverti began debt absolut explod yet poor peopl countri ever fact pleas feder debt start explod reagan michael explod long time parti blame michael tom singa ye blame obama debt increas slightli need put control obama doubl debt period way argu otherwis evi america rapidli turn european style socialist welfar state evid say wish european socialist state tex even canadian style conserv one tom singa well leav go live gari michael estim welfar recepi get benefit fraudent game system know focus abus system make better headlin ignor get benefit get would die part liter know ayn rand wet dream may want world social darwin like fool paul ryan horribl world would record believ abus system need kick dealt gari corpor welfar welfar rich way welfar poor michael turn fox better gari percent american live home receiv form govern benefit wall street corpor bailout put economi recess need finish tape end michael stop sop disingenuin know better gari michael one side corpor parasit rich parasit congress much extra averag famili pay parasit sunk new low articl one side incomplet fact hardli read crap misterc haunt blog troll gari nice hypocrit christian refer god children parasit knew noth make peopl think christian push come shove right libertarian selfish crowd probabl realli worship magog rhynn way anybodi go spend month gasolin ride motorcycl simpli job nowher go thu even afford month even econo box cost close per full tank ga live nobodi go fill car time month employ tri doubl goe month rent mortgag bare get singl worst area citi one person could make circumst famili four complet forget unless live car eat park behind add insur health coverag car mainten etc quadrupl figur size famili even pretend comfort k figur mention net america bad punchlin noth newton even much actual peopl realli cost us incred innefect almost inexhaust amount bureaucrat support personnel program mean michael want find money trail follow singl minor mother kid differ guy live burb mom dad next door mean amaz peopl individu casework make casework keep job get rais viciou cycl say year percentag row boat equal percentag ride boat boat stop rower grow weari cannot rest becom depend like run marathon stop mile breather guarante never pick pace law right behind eat calori burn gain weight day number howev rower know thing make thing repair thing parasit much one day give year gonna find worth countri current farmer make k senat make k bet role gonna chang joe govern employ sector overpay million lazi call worker either noth day push meaningless govern drippl articl shill fat cat rich greedi would take social secur peopl earn benefit peopl truli need never hear lazi govern union parasit type articl that real parasit run america want keep go even govern employe lay got full pay benefit appli unemploy like privat sector alway get special privileg includ right paycheck without work amount alot money pay noth far exce amount anyon receiv govern benefit get work fill space stand around look stupid job necessari work keep corrupt polit machin go govern employe lazi pack overpay overprivileg spoil brat think everyth life hand silver platter yet one word utter elit master master seek make live forc onto govern benefit miser anoth attempt class warfar tom singa get fire jame hard work american vs govern parasit good one occur hard work type call work actual chattel slave farm indian would never understood person must continu pay live piec ground born think nobl work poor despic say system keep function head peopl thought like system would end tomorrow support mess deal take man right demand payment live land take step circumv crime rest creat continu support way disdain poor parasit one psyop rich master run divid lower middl class nowwthen guess tri hard enough justifi disdain take care throw nonsens indian paid work slaveri sudden smarter self suffici man woman entitl take timothi leari dead geniu get fat go work jame look term sheepl wikipedia learn jame put otherwis job fool also moral liabl keep mess go better less take care need stole land put us cage illeg person satan blood ticket trade curs refus good littl obedi slave yeah take give rest come sens rememb disdain govern dole serv turn come pray enviou demograph demon poor point put work camp mr g right jame realli need much labor make world run much labor goe support peopl us want want want live happili lifestyl full life great mani hobbi interest requir constant outlay money though oddli other thing spend constantli actual thing much anymor live like want fine ought work like dog produc plastic crap enslav littl peopl mr g jeremi lot anger comment suggest log come per week blood pressur drop starr make sick know econom disast america year old work sinc unfortun compani work year went busi put unemploy month make crazi work alot skill put sever applic job job govern lie us want keep us control wake america need get rid social commun destroy countri mondobeyondo even maggot work way system becom worm ye know funni sorri jimbo vip start appear roadsid ditch bail wire around wrist bullet hole behind ear everi morn thing continu get wors bill im mistaken system curs givin free food shelter call cage worker expens curs system also firm belief work refus whatev reason like enough money dont like kind work whatev starv live street wood ever work men women support peopl lazi work believ part man anyway support famili support famili feel shouldnt work one kid support someon think he man wont work rowel michael call statement live liber area countri know game system entir possibl live comfort exist without ever work much say liber area countri peopl take advantag system sever southern conserv state among top recipi govern aid citizen state alabama mississippi extrem high number peopl welfar say liber problem divis pleas keep object report would lend credibl articl especi us middl like liber like gari hard core conserv michael ye true peopl game system countri happen littl easier liber area chicago michael excel articl wait one great job nex case year longest time one want notic got hick alabama live subsidi cradl grave got black ny economi turn thank mortgag everyon sudden becam issu stop polic world conquer whoever money default alreadi let watch fli phoenix great seen problem loud clear solut howev open mind free thinker envis differ better world like talk solut orient instead problem orient best way promot chang http rondetafelbeleid nl meritocraci ivan foreign live work countri sort strang watch american yell social socialist norway debt gdp socialist denmark socialist sweden socialist east germani unif unit state includ intra govern debt like medicar social secur debt owe individu state japan cool tell social kill america gari low inform right wing voter easili manilup fox scandavian countri beat usa pretti much everi catagori socialist need much socialist drop self made man crap simpli myth pauli manipul left wing voter sagaci sad littl child think man gari agre benjik articl govern parasit think ye ye brunot let tell high school educ wife nanni till make k year quit surpris self employ semi retir busi mow lawn broke sweat everi day know eh imposs achiev anyth without govn check ignor statement tom singa oh cash base busi run tabl pay fair share pleas tell name lawn care id like report ir tim ye hear time look popul countri take norway exampl popul million us million know norway oil countri without oil economi would probabl stagnat compar appl orang friend argument countri better look factor oil countri marcu spend less earn simpl sweden oil countri socialist studi economi rant pleas market driven economi strong government influenc problem us sinc consid govern servant american consid govern enemi sometim feel like america aim freedom end anarchi hate usa expect year ago peopl europ dream california dream emir malaysia singapor hong kong canada benjik cherenkov retard american lucki higher standard live better health care less better educ cultur event vacat day least doubl govern pocket corpor gosh terribl thing get vote parliamentari system view might actual repres instead co opt politician own lock stock barrel corpor elit anyon believ stupid stori deserv crappi american life get gari michael listen libertarian dream tom singa spoken like true piss antt mooch bob marshal european style social exactli need market fundament think propaganda govern involv alway bad success also harm societi georg soro tri defend without doubt tom singa true mooch mia typic liber fox news channel make sens glad believ fairytal chang liber leader want us believ american dream die marxism go ahead nobodi chang anyway go sit couch get free money want govt care hardwork taxpay suffer lib care lee even know ideolog behind marxism american dream find come back explain kill american dream fact loyal follow fox word explain differ liber conservit shown lack knowledg assum attend colleg pay use pell grant student loan sometim think speak thefulishbastid let get logic straight everyon welfar snap medicaid game system quit job tomorrow better yet will fire appli socialist benefit voila live high life rollin caddi wakin noon head store buy steak girl drink smoke wee hour morn wake afternoon ad infinitum sign option get rid benefit peopl live demand folk go get job exist think quit day job though mayb go work soup kitchen one day see well folk blame woe truli live tom singa song will live dump share nice home wiht other thing better yet even home charg roomi rent cash jf work lo angel live hour away thank god parol agent mani parole claim mental health ailment depress hear voic sign receiv ssi usual dollar per month mani receiv back pay sever thousand also receiv hous rental assist ebt food card loung around day buy alcohol drug money includ freeload hoodrat girl multipl children illeg etc receiv freebi lo angel total mess california collaps gonna hard see mani citi erupt violenc bloodi riot occur hora ssi said well retir disabl get sure system collaps soon ss ssi collect work paid tax collaps sure lot stop get check free real disabl older keep money paid long time riot well end dem kkk parti inyofac go back mexico part problem anonym say say per month enough support famili peopl problem american savvi frugal poor micro manag quit honestli mani suffer narciss addict mani american live live ignor tool work automobil home applianc comput cloth bodi famili cannot live per month might terribl manag like spend heavili thing need surviv buy excess expens food luxuri item luxuri cloth accessori cigarett drug bar new automobil automobil poor ga mileag cours mani american bred system believ social accept new car new hous new cloth new applianc worship sport team futur mani american like end giant temper tantrum riot follow score militari hose tell shut fuck deal go judg peopl truth peopl need micro manag live better lazi learn care bodi tool tom singa convers cut back cant live without cabl bill mo landlin internet access two smart phone almost mo explain even turn ac day lower night cut bill mo cant sleep set degre gosh peopl thing tthey entitl tto get goc help jan honeycutt nation guard requir husband internet access pay pocket coupon constantli kid get clearanc cloth cheaper walmart worth hunt month come tax everi week tax honestli need help deserv get husband surgeri remov tumor luckili cancer still work insur left us dollar copay icu time surgeri complic heart condit uti extrem ib end go back work earli medic bill come everyday despit pay insur children asthma sever bad health problem daughter extrem ib gerd top asthma work everyday would possibl get penni disabl paid despit non work bladder heart condit epilepsi watch healthi peopl walk around fibromyalgia even know one govern moocher get month daughter dyslexia top peopl never work paid penni disabl daughter dyslexia would rather manipul system use daughter pay check peopl integr admit keep air night due heart condit get hot heart rate goe blood pressur plummet serious doubt peopl get bill paid real need keep air low though know husband work factori educ staff sergeant guard still gross round yr one time order get paid week later system use credit card ask famili money husband get sick day yr hospit day last yr desper need help husband home tour duti count noth could get militari aid sunk ultim low appli food stamp get month deni get cut wazoo support peopl refus help need help door slam face drown debt due k loan credit card use hard time also forc refin arm interest rate get realli hope easi refin told doubt choic govern horribl flaw articl say month tax got half tax pay monthli would fine ken sack problem exist peopl live letter spirit freei govern law thou shalt steal max power unfortun american would rather commit mass suicid see singl high paid multi gener govern neopot lose job pension us liter hundr thousand peopl us citizenship ban workforc law statut regul person situat cost govern multipl level million dollar possibl us debt burden level exacerb problem nepot favorit cronyism rest anyway exampl canadian us citizenship ban kind employ due nation max power http group yahoo com group australian marri preg brunot scandinavian countri ok social high function populac smarter better cultur term work ethic norm work etc averag also live tini home drive tini car achiev prosper also much militari spend conquer week last time anyon tri uniform ethnic makeup help cultur issu social well though chang also someth said way socialist program administ difficult beat us fact welfar state virtual debt problem fact trillion debt free market lack govern program ridicul leap logic buckaroo banzai um also forget fact scandinavian countri pump oil wealth north sea year norway especi unbeliev rich north sea oil social real easi manag pump stuff ground sell monument bureaucrat wast kind get lost shuffl endless free money john good comment ring true brunot nation greater product citizen nation moral moral peopl nation believ think otherwis doom eventu fail tom singa repli move socialist countri like ge go live countri see work thefulishbastid lol appreci logic comment work soup kitchen day mayb take gari approach call'"
      ]
     },
     "execution_count": 34,
     "metadata": {},
     "output_type": "execute_result"
    }
   ],
   "source": [
    "corpus[11907]"
   ]
  },
  {
   "cell_type": "code",
   "execution_count": 35,
   "metadata": {},
   "outputs": [
    {
     "data": {
      "text/plain": [
       "72006"
      ]
     },
     "execution_count": 35,
     "metadata": {},
     "output_type": "execute_result"
    }
   ],
   "source": [
    "len(corpus[11907])"
   ]
  },
  {
   "cell_type": "code",
   "execution_count": 90,
   "metadata": {},
   "outputs": [],
   "source": [
    "#df = pd.read_csv('train.csv')\n",
    "df_test = pd.read_csv('test.csv')"
   ]
  },
  {
   "cell_type": "code",
   "execution_count": 11,
   "metadata": {},
   "outputs": [],
   "source": [
    "df = df.dropna()"
   ]
  },
  {
   "cell_type": "code",
   "execution_count": 12,
   "metadata": {},
   "outputs": [],
   "source": [
    "# get independent features\n",
    "#x = df.drop('label', axis = 1)\n",
    "y = df['label']"
   ]
  },
  {
   "cell_type": "code",
   "execution_count": 5,
   "metadata": {},
   "outputs": [],
   "source": [
    "messages = df.copy()\n",
    "messages_test = df_test.copy()\n",
    "messages_test = messages_test.dropna(subset=['text']) "
   ]
  },
  {
   "cell_type": "code",
   "execution_count": 6,
   "metadata": {},
   "outputs": [],
   "source": [
    "messages.reset_index(inplace= True) ## can easily apply for loop\n",
    "messages_test.reset_index(inplace= True) ## can easily apply for loop"
   ]
  },
  {
   "cell_type": "code",
   "execution_count": 14,
   "metadata": {},
   "outputs": [],
   "source": [
    "tmp_tst = pd.DataFrame(corpus_test)"
   ]
  },
  {
   "cell_type": "code",
   "execution_count": 15,
   "metadata": {},
   "outputs": [
    {
     "data": {
      "text/html": [
       "<div>\n",
       "<style scoped>\n",
       "    .dataframe tbody tr th:only-of-type {\n",
       "        vertical-align: middle;\n",
       "    }\n",
       "\n",
       "    .dataframe tbody tr th {\n",
       "        vertical-align: top;\n",
       "    }\n",
       "\n",
       "    .dataframe thead th {\n",
       "        text-align: right;\n",
       "    }\n",
       "</style>\n",
       "<table border=\"1\" class=\"dataframe\">\n",
       "  <thead>\n",
       "    <tr style=\"text-align: right;\">\n",
       "      <th></th>\n",
       "      <th>0</th>\n",
       "    </tr>\n",
       "  </thead>\n",
       "  <tbody>\n",
       "    <tr>\n",
       "      <th>0</th>\n",
       "      <td>palo alto calif year scorn polit process silic...</td>\n",
       "    </tr>\n",
       "    <tr>\n",
       "      <th>1</th>\n",
       "      <td>russian warship readi strike terrorist near al...</td>\n",
       "    </tr>\n",
       "    <tr>\n",
       "      <th>2</th>\n",
       "      <td>video nodapl nativ american leader vow stay wi...</td>\n",
       "    </tr>\n",
       "    <tr>\n",
       "      <th>3</th>\n",
       "      <td>first succeed tri differ sport tim tebow heism...</td>\n",
       "    </tr>\n",
       "    <tr>\n",
       "      <th>4</th>\n",
       "      <td>min ago view comment like first time histori f...</td>\n",
       "    </tr>\n",
       "    <tr>\n",
       "      <th>...</th>\n",
       "      <td>...</td>\n",
       "    </tr>\n",
       "    <tr>\n",
       "      <th>5188</th>\n",
       "      <td>dysfunct plagu world megac none may pernici ba...</td>\n",
       "    </tr>\n",
       "    <tr>\n",
       "      <th>5189</th>\n",
       "      <td>washington gov john kasich ohio tuesday sign l...</td>\n",
       "    </tr>\n",
       "    <tr>\n",
       "      <th>5190</th>\n",
       "      <td>good morn want get california today email joan...</td>\n",
       "    </tr>\n",
       "    <tr>\n",
       "      <th>5191</th>\n",
       "      <td>previou next us marin deploy russian border no...</td>\n",
       "    </tr>\n",
       "    <tr>\n",
       "      <th>5192</th>\n",
       "      <td>perhap seen new tv seri whose pilot episod beg...</td>\n",
       "    </tr>\n",
       "  </tbody>\n",
       "</table>\n",
       "<p>5193 rows × 1 columns</p>\n",
       "</div>"
      ],
      "text/plain": [
       "                                                      0\n",
       "0     palo alto calif year scorn polit process silic...\n",
       "1     russian warship readi strike terrorist near al...\n",
       "2     video nodapl nativ american leader vow stay wi...\n",
       "3     first succeed tri differ sport tim tebow heism...\n",
       "4     min ago view comment like first time histori f...\n",
       "...                                                 ...\n",
       "5188  dysfunct plagu world megac none may pernici ba...\n",
       "5189  washington gov john kasich ohio tuesday sign l...\n",
       "5190  good morn want get california today email joan...\n",
       "5191  previou next us marin deploy russian border no...\n",
       "5192  perhap seen new tv seri whose pilot episod beg...\n",
       "\n",
       "[5193 rows x 1 columns]"
      ]
     },
     "execution_count": 15,
     "metadata": {},
     "output_type": "execute_result"
    }
   ],
   "source": [
    "tmp_tst"
   ]
  },
  {
   "cell_type": "code",
   "execution_count": 9,
   "metadata": {
    "scrolled": true
   },
   "outputs": [
    {
     "data": {
      "text/html": [
       "<div>\n",
       "<style scoped>\n",
       "    .dataframe tbody tr th:only-of-type {\n",
       "        vertical-align: middle;\n",
       "    }\n",
       "\n",
       "    .dataframe tbody tr th {\n",
       "        vertical-align: top;\n",
       "    }\n",
       "\n",
       "    .dataframe thead th {\n",
       "        text-align: right;\n",
       "    }\n",
       "</style>\n",
       "<table border=\"1\" class=\"dataframe\">\n",
       "  <thead>\n",
       "    <tr style=\"text-align: right;\">\n",
       "      <th></th>\n",
       "      <th>0</th>\n",
       "    </tr>\n",
       "  </thead>\n",
       "  <tbody>\n",
       "    <tr>\n",
       "      <th>0</th>\n",
       "      <td>hous dem aid even see comey letter jason chaff...</td>\n",
       "    </tr>\n",
       "    <tr>\n",
       "      <th>1</th>\n",
       "      <td>ever get feel life circl roundabout rather hea...</td>\n",
       "    </tr>\n",
       "    <tr>\n",
       "      <th>2</th>\n",
       "      <td>truth might get fire octob tension intellig an...</td>\n",
       "    </tr>\n",
       "    <tr>\n",
       "      <th>3</th>\n",
       "      <td>video civilian kill singl us airstrik identifi...</td>\n",
       "    </tr>\n",
       "    <tr>\n",
       "      <th>4</th>\n",
       "      <td>print iranian woman sentenc six year prison ir...</td>\n",
       "    </tr>\n",
       "    <tr>\n",
       "      <th>...</th>\n",
       "      <td>...</td>\n",
       "    </tr>\n",
       "    <tr>\n",
       "      <th>18280</th>\n",
       "      <td>rapper unload black celebr met donald trump el...</td>\n",
       "    </tr>\n",
       "    <tr>\n",
       "      <th>18281</th>\n",
       "      <td>green bay packer lost washington redskin week ...</td>\n",
       "    </tr>\n",
       "    <tr>\n",
       "      <th>18282</th>\n",
       "      <td>maci today grew union sever great name america...</td>\n",
       "    </tr>\n",
       "    <tr>\n",
       "      <th>18283</th>\n",
       "      <td>nato russia hold parallel exercis balkan press...</td>\n",
       "    </tr>\n",
       "    <tr>\n",
       "      <th>18284</th>\n",
       "      <td>david swanson author activist journalist radio...</td>\n",
       "    </tr>\n",
       "  </tbody>\n",
       "</table>\n",
       "<p>18285 rows × 1 columns</p>\n",
       "</div>"
      ],
      "text/plain": [
       "                                                       0\n",
       "0      hous dem aid even see comey letter jason chaff...\n",
       "1      ever get feel life circl roundabout rather hea...\n",
       "2      truth might get fire octob tension intellig an...\n",
       "3      video civilian kill singl us airstrik identifi...\n",
       "4      print iranian woman sentenc six year prison ir...\n",
       "...                                                  ...\n",
       "18280  rapper unload black celebr met donald trump el...\n",
       "18281  green bay packer lost washington redskin week ...\n",
       "18282  maci today grew union sever great name america...\n",
       "18283  nato russia hold parallel exercis balkan press...\n",
       "18284  david swanson author activist journalist radio...\n",
       "\n",
       "[18285 rows x 1 columns]"
      ]
     },
     "execution_count": 9,
     "metadata": {},
     "output_type": "execute_result"
    }
   ],
   "source": [
    "tmp"
   ]
  },
  {
   "cell_type": "code",
   "execution_count": 11,
   "metadata": {},
   "outputs": [],
   "source": [
    "tmp.to_csv('corps.csv')"
   ]
  },
  {
   "cell_type": "code",
   "execution_count": 16,
   "metadata": {},
   "outputs": [],
   "source": [
    "tmp_tst.to_csv('corps_tst.csv')"
   ]
  },
  {
   "cell_type": "code",
   "execution_count": 13,
   "metadata": {},
   "outputs": [],
   "source": [
    "import tensorflow as tf\n",
    "from tensorflow.keras.layers import Embedding\n",
    "from tensorflow.keras.preprocessing.sequence import pad_sequences\n",
    "from tensorflow.keras.models import Sequential\n",
    "from tensorflow.keras.preprocessing.text import one_hot\n",
    "from tensorflow.keras.layers import LSTM\n",
    "from tensorflow.keras.layers import Dense"
   ]
  },
  {
   "cell_type": "code",
   "execution_count": 14,
   "metadata": {},
   "outputs": [],
   "source": [
    "voc_size = 6000\n",
    "onehot_repr=[one_hot(words,voc_size)for words in corpus]\n",
    "one_test = [one_hot(words,voc_size)for words in corpus_test]"
   ]
  },
  {
   "cell_type": "code",
   "execution_count": 27,
   "metadata": {},
   "outputs": [],
   "source": [
    "maxi = len(onehot_repr[0])"
   ]
  },
  {
   "cell_type": "code",
   "execution_count": 29,
   "metadata": {},
   "outputs": [
    {
     "name": "stdout",
     "output_type": "stream",
     "text": [
      "2\n",
      "7\n",
      "12\n",
      "25\n",
      "167\n",
      "404\n",
      "2390\n",
      "4459\n",
      "6609\n",
      "7647\n",
      "11907\n"
     ]
    },
    {
     "data": {
      "text/plain": [
       "12059"
      ]
     },
     "execution_count": 29,
     "metadata": {},
     "output_type": "execute_result"
    }
   ],
   "source": [
    "for i in range(len(onehot_repr)):\n",
    "    if(len(onehot_repr[i]) > maxi):\n",
    "        maxi = len(onehot_repr[i])\n",
    "        print(i)\n",
    "maxi"
   ]
  },
  {
   "cell_type": "code",
   "execution_count": 30,
   "metadata": {},
   "outputs": [
    {
     "data": {
      "text/plain": [
       "12059"
      ]
     },
     "execution_count": 30,
     "metadata": {},
     "output_type": "execute_result"
    }
   ],
   "source": [
    "len(onehot_repr[11907])"
   ]
  },
  {
   "cell_type": "code",
   "execution_count": 77,
   "metadata": {},
   "outputs": [],
   "source": [
    "sent_length=1000\n",
    "embedded_docs=pad_sequences(onehot_repr,padding='pre',maxlen=sent_length)"
   ]
  },
  {
   "cell_type": "code",
   "execution_count": 56,
   "metadata": {},
   "outputs": [
    {
     "data": {
      "text/plain": [
       "18285"
      ]
     },
     "execution_count": 56,
     "metadata": {},
     "output_type": "execute_result"
    }
   ],
   "source": [
    "len(embedded_docs)"
   ]
  },
  {
   "cell_type": "code",
   "execution_count": 57,
   "metadata": {
    "scrolled": true
   },
   "outputs": [
    {
     "data": {
      "text/plain": [
       "1000"
      ]
     },
     "execution_count": 57,
     "metadata": {},
     "output_type": "execute_result"
    }
   ],
   "source": [
    "len(embedded_docs[0])"
   ]
  },
  {
   "cell_type": "code",
   "execution_count": 36,
   "metadata": {},
   "outputs": [
    {
     "name": "stdout",
     "output_type": "stream",
     "text": [
      "Model: \"sequential\"\n",
      "_________________________________________________________________\n",
      "Layer (type)                 Output Shape              Param #   \n",
      "=================================================================\n",
      "embedding (Embedding)        (None, 1000, 60)          360000    \n",
      "_________________________________________________________________\n",
      "lstm (LSTM)                  (None, 100)               64400     \n",
      "_________________________________________________________________\n",
      "dense (Dense)                (None, 1)                 101       \n",
      "=================================================================\n",
      "Total params: 424,501\n",
      "Trainable params: 424,501\n",
      "Non-trainable params: 0\n",
      "_________________________________________________________________\n",
      "None\n"
     ]
    }
   ],
   "source": [
    "## Creating model\n",
    "embedding_vector_features=60\n",
    "model=Sequential()\n",
    "model.add(Embedding(voc_size,embedding_vector_features,input_length=sent_length))\n",
    "model.add(LSTM(100))\n",
    "model.add(Dense(1,activation='sigmoid'))\n",
    "model.compile(loss='binary_crossentropy',optimizer='adam',metrics=['accuracy'])\n",
    "print(model.summary())"
   ]
  },
  {
   "cell_type": "code",
   "execution_count": 58,
   "metadata": {},
   "outputs": [],
   "source": [
    "from tensorflow.keras.layers import Dropout\n",
    "## Creating model\n",
    "embedding_vector_features=60\n",
    "model=Sequential()\n",
    "model.add(Embedding(voc_size,embedding_vector_features,input_length=sent_length))\n",
    "model.add(Dropout(0.3))\n",
    "model.add(LSTM(100))\n",
    "model.add(Dropout(0.3))\n",
    "model.add(Dense(1,activation='sigmoid'))\n",
    "model.compile(loss='binary_crossentropy',optimizer='adam',metrics=['accuracy'])"
   ]
  },
  {
   "cell_type": "code",
   "execution_count": 79,
   "metadata": {},
   "outputs": [
    {
     "name": "stdout",
     "output_type": "stream",
     "text": [
      "Model: \"sequential_3\"\n",
      "_________________________________________________________________\n",
      "Layer (type)                 Output Shape              Param #   \n",
      "=================================================================\n",
      "embedding_3 (Embedding)      (None, 1000, 40)          240000    \n",
      "_________________________________________________________________\n",
      "bidirectional (Bidirectional (None, 200)               112800    \n",
      "_________________________________________________________________\n",
      "dropout_2 (Dropout)          (None, 200)               0         \n",
      "_________________________________________________________________\n",
      "dense_2 (Dense)              (None, 1)                 201       \n",
      "=================================================================\n",
      "Total params: 353,001\n",
      "Trainable params: 353,001\n",
      "Non-trainable params: 0\n",
      "_________________________________________________________________\n",
      "None\n"
     ]
    }
   ],
   "source": [
    "## Creating model\n",
    "from tensorflow.keras.layers import Bidirectional\n",
    "embedding_vector_features=40\n",
    "model1=Sequential()\n",
    "model1.add(Embedding(voc_size,embedding_vector_features,input_length=sent_length))\n",
    "model1.add(Bidirectional(LSTM(100)))\n",
    "model1.add(Dropout(0.3))\n",
    "model1.add(Dense(1,activation='sigmoid'))\n",
    "model1.compile(loss='binary_crossentropy',optimizer='adam',metrics=['accuracy'])\n",
    "print(model1.summary())"
   ]
  },
  {
   "cell_type": "code",
   "execution_count": 80,
   "metadata": {},
   "outputs": [],
   "source": [
    "import numpy as np\n",
    "X_final=np.array(embedded_docs)\n",
    "y_final=np.array(y)"
   ]
  },
  {
   "cell_type": "code",
   "execution_count": 81,
   "metadata": {},
   "outputs": [
    {
     "data": {
      "text/plain": [
       "((18285, 1000), (18285,))"
      ]
     },
     "execution_count": 81,
     "metadata": {},
     "output_type": "execute_result"
    }
   ],
   "source": [
    "X_final.shape,y_final.shape"
   ]
  },
  {
   "cell_type": "code",
   "execution_count": 82,
   "metadata": {},
   "outputs": [],
   "source": [
    "from sklearn.model_selection import train_test_split\n",
    "X_train, X_test, y_train, y_test = train_test_split(X_final, y_final, test_size=0.25, random_state=42)"
   ]
  },
  {
   "cell_type": "code",
   "execution_count": 40,
   "metadata": {
    "scrolled": true
   },
   "outputs": [
    {
     "name": "stdout",
     "output_type": "stream",
     "text": [
      "Train on 13713 samples, validate on 4572 samples\n",
      "Epoch 1/3\n",
      "13713/13713 [==============================] - 691s 50ms/sample - loss: 0.3927 - accuracy: 0.8160 - val_loss: 0.2497 - val_accuracy: 0.8939\n",
      "Epoch 2/3\n",
      "13713/13713 [==============================] - 816s 60ms/sample - loss: 0.2094 - accuracy: 0.9159 - val_loss: 0.2154 - val_accuracy: 0.9112\n",
      "Epoch 3/3\n",
      "13713/13713 [==============================] - 778s 57ms/sample - loss: 0.1303 - accuracy: 0.9535 - val_loss: 0.2303 - val_accuracy: 0.9199\n"
     ]
    },
    {
     "data": {
      "text/plain": [
       "<tensorflow.python.keras.callbacks.History at 0x7f4254c01090>"
      ]
     },
     "execution_count": 40,
     "metadata": {},
     "output_type": "execute_result"
    }
   ],
   "source": [
    "### Finally Training\n",
    "model.fit(X_train,y_train,validation_data=(X_test,y_test),epochs=3,batch_size=64)"
   ]
  },
  {
   "cell_type": "code",
   "execution_count": 62,
   "metadata": {},
   "outputs": [
    {
     "name": "stdout",
     "output_type": "stream",
     "text": [
      "Train on 13713 samples, validate on 4572 samples\n",
      "Epoch 1/3\n",
      "13713/13713 [==============================] - 500s 36ms/sample - loss: 0.3482 - accuracy: 0.8444 - val_loss: 0.2055 - val_accuracy: 0.9243\n",
      "Epoch 2/3\n",
      "13713/13713 [==============================] - 504s 37ms/sample - loss: 0.1595 - accuracy: 0.9439 - val_loss: 0.2269 - val_accuracy: 0.9265\n",
      "Epoch 3/3\n",
      "13713/13713 [==============================] - 583s 43ms/sample - loss: 0.1500 - accuracy: 0.9453 - val_loss: 0.2213 - val_accuracy: 0.9296\n"
     ]
    },
    {
     "data": {
      "text/plain": [
       "<tensorflow.python.keras.callbacks.History at 0x7f4283c4bd50>"
      ]
     },
     "execution_count": 62,
     "metadata": {},
     "output_type": "execute_result"
    }
   ],
   "source": [
    "### Finally Training\n",
    "model.fit(X_train,y_train,validation_data=(X_test,y_test),epochs=3,batch_size=64)"
   ]
  },
  {
   "cell_type": "code",
   "execution_count": 83,
   "metadata": {},
   "outputs": [
    {
     "name": "stdout",
     "output_type": "stream",
     "text": [
      "Train on 13713 samples, validate on 4572 samples\n",
      "Epoch 1/3\n",
      "13713/13713 [==============================] - 447s 33ms/sample - loss: 0.1195 - accuracy: 0.9599 - val_loss: 0.2281 - val_accuracy: 0.9276\n",
      "Epoch 2/3\n",
      "13713/13713 [==============================] - 448s 33ms/sample - loss: 0.0785 - accuracy: 0.9733 - val_loss: 0.2341 - val_accuracy: 0.9239\n",
      "Epoch 3/3\n",
      "13713/13713 [==============================] - 426s 31ms/sample - loss: 0.0609 - accuracy: 0.9799 - val_loss: 0.2327 - val_accuracy: 0.9269\n"
     ]
    },
    {
     "data": {
      "text/plain": [
       "<tensorflow.python.keras.callbacks.History at 0x7f423dd38cd0>"
      ]
     },
     "execution_count": 83,
     "metadata": {},
     "output_type": "execute_result"
    }
   ],
   "source": [
    "### Finally Training\n",
    "model.fit(X_train,y_train,validation_data=(X_test,y_test),epochs=3,batch_size=64)"
   ]
  },
  {
   "cell_type": "code",
   "execution_count": 41,
   "metadata": {},
   "outputs": [],
   "source": [
    "y_pred=model.predict_classes(X_test)"
   ]
  },
  {
   "cell_type": "code",
   "execution_count": 42,
   "metadata": {},
   "outputs": [
    {
     "data": {
      "text/plain": [
       "0.9199475065616798"
      ]
     },
     "execution_count": 42,
     "metadata": {},
     "output_type": "execute_result"
    }
   ],
   "source": [
    "from sklearn.metrics import accuracy_score\n",
    "accuracy_score(y_test,y_pred)"
   ]
  },
  {
   "cell_type": "code",
   "execution_count": 84,
   "metadata": {},
   "outputs": [],
   "source": [
    "sent_length=1000\n",
    "embedded_docs_test=pad_sequences(one_test,padding='pre',maxlen=sent_length)"
   ]
  },
  {
   "cell_type": "code",
   "execution_count": 85,
   "metadata": {},
   "outputs": [],
   "source": [
    "import numpy as np\n",
    "X_fina_test=np.array(embedded_docs_test)\n",
    "y_final_test=np.array(y)"
   ]
  },
  {
   "cell_type": "code",
   "execution_count": 86,
   "metadata": {},
   "outputs": [],
   "source": [
    "pred = model.predict_classes(X_fina_test)"
   ]
  },
  {
   "cell_type": "code",
   "execution_count": 87,
   "metadata": {},
   "outputs": [],
   "source": [
    "pred = pred.flatten()"
   ]
  },
  {
   "cell_type": "code",
   "execution_count": 88,
   "metadata": {},
   "outputs": [
    {
     "data": {
      "text/plain": [
       "array([0, 1, 1, ..., 0, 1, 0], dtype=int32)"
      ]
     },
     "execution_count": 88,
     "metadata": {},
     "output_type": "execute_result"
    }
   ],
   "source": [
    "pred"
   ]
  },
  {
   "cell_type": "code",
   "execution_count": 91,
   "metadata": {},
   "outputs": [
    {
     "data": {
      "text/plain": [
       "(5200, 4)"
      ]
     },
     "execution_count": 91,
     "metadata": {},
     "output_type": "execute_result"
    }
   ],
   "source": [
    "df_test.shape"
   ]
  },
  {
   "cell_type": "code",
   "execution_count": 92,
   "metadata": {},
   "outputs": [],
   "source": [
    "result = []\n",
    "j = 0\n",
    "for i in range(len(df_test)):\n",
    "    if(pd.isnull(df_test['text'][i])):\n",
    "        result.append(1)\n",
    "    else:\n",
    "        result.append(pred[j])\n",
    "        j = j+1"
   ]
  },
  {
   "cell_type": "code",
   "execution_count": 93,
   "metadata": {},
   "outputs": [
    {
     "data": {
      "text/plain": [
       "5200"
      ]
     },
     "execution_count": 93,
     "metadata": {},
     "output_type": "execute_result"
    }
   ],
   "source": [
    "len(result)"
   ]
  },
  {
   "cell_type": "code",
   "execution_count": 94,
   "metadata": {},
   "outputs": [],
   "source": [
    "df_test['label'] = result"
   ]
  },
  {
   "cell_type": "code",
   "execution_count": 95,
   "metadata": {},
   "outputs": [
    {
     "data": {
      "text/html": [
       "<div>\n",
       "<style scoped>\n",
       "    .dataframe tbody tr th:only-of-type {\n",
       "        vertical-align: middle;\n",
       "    }\n",
       "\n",
       "    .dataframe tbody tr th {\n",
       "        vertical-align: top;\n",
       "    }\n",
       "\n",
       "    .dataframe thead th {\n",
       "        text-align: right;\n",
       "    }\n",
       "</style>\n",
       "<table border=\"1\" class=\"dataframe\">\n",
       "  <thead>\n",
       "    <tr style=\"text-align: right;\">\n",
       "      <th></th>\n",
       "      <th>id</th>\n",
       "      <th>title</th>\n",
       "      <th>author</th>\n",
       "      <th>text</th>\n",
       "      <th>label</th>\n",
       "    </tr>\n",
       "  </thead>\n",
       "  <tbody>\n",
       "    <tr>\n",
       "      <th>0</th>\n",
       "      <td>20800</td>\n",
       "      <td>Specter of Trump Loosens Tongues, if Not Purse...</td>\n",
       "      <td>David Streitfeld</td>\n",
       "      <td>PALO ALTO, Calif.  —   After years of scorning...</td>\n",
       "      <td>0</td>\n",
       "    </tr>\n",
       "    <tr>\n",
       "      <th>1</th>\n",
       "      <td>20801</td>\n",
       "      <td>Russian warships ready to strike terrorists ne...</td>\n",
       "      <td>NaN</td>\n",
       "      <td>Russian warships ready to strike terrorists ne...</td>\n",
       "      <td>1</td>\n",
       "    </tr>\n",
       "    <tr>\n",
       "      <th>2</th>\n",
       "      <td>20802</td>\n",
       "      <td>#NoDAPL: Native American Leaders Vow to Stay A...</td>\n",
       "      <td>Common Dreams</td>\n",
       "      <td>Videos #NoDAPL: Native American Leaders Vow to...</td>\n",
       "      <td>1</td>\n",
       "    </tr>\n",
       "    <tr>\n",
       "      <th>3</th>\n",
       "      <td>20803</td>\n",
       "      <td>Tim Tebow Will Attempt Another Comeback, This ...</td>\n",
       "      <td>Daniel Victor</td>\n",
       "      <td>If at first you don’t succeed, try a different...</td>\n",
       "      <td>0</td>\n",
       "    </tr>\n",
       "    <tr>\n",
       "      <th>4</th>\n",
       "      <td>20804</td>\n",
       "      <td>Keiser Report: Meme Wars (E995)</td>\n",
       "      <td>Truth Broadcast Network</td>\n",
       "      <td>42 mins ago 1 Views 0 Comments 0 Likes 'For th...</td>\n",
       "      <td>1</td>\n",
       "    </tr>\n",
       "  </tbody>\n",
       "</table>\n",
       "</div>"
      ],
      "text/plain": [
       "      id                                              title  \\\n",
       "0  20800  Specter of Trump Loosens Tongues, if Not Purse...   \n",
       "1  20801  Russian warships ready to strike terrorists ne...   \n",
       "2  20802  #NoDAPL: Native American Leaders Vow to Stay A...   \n",
       "3  20803  Tim Tebow Will Attempt Another Comeback, This ...   \n",
       "4  20804                    Keiser Report: Meme Wars (E995)   \n",
       "\n",
       "                    author                                               text  \\\n",
       "0         David Streitfeld  PALO ALTO, Calif.  —   After years of scorning...   \n",
       "1                      NaN  Russian warships ready to strike terrorists ne...   \n",
       "2            Common Dreams  Videos #NoDAPL: Native American Leaders Vow to...   \n",
       "3            Daniel Victor  If at first you don’t succeed, try a different...   \n",
       "4  Truth Broadcast Network  42 mins ago 1 Views 0 Comments 0 Likes 'For th...   \n",
       "\n",
       "   label  \n",
       "0      0  \n",
       "1      1  \n",
       "2      1  \n",
       "3      0  \n",
       "4      1  "
      ]
     },
     "execution_count": 95,
     "metadata": {},
     "output_type": "execute_result"
    }
   ],
   "source": [
    "df_test.head()"
   ]
  },
  {
   "cell_type": "code",
   "execution_count": 96,
   "metadata": {},
   "outputs": [],
   "source": [
    "del df_test['title']\n",
    "del df_test['author']\n",
    "del df_test['text']"
   ]
  },
  {
   "cell_type": "code",
   "execution_count": 97,
   "metadata": {},
   "outputs": [],
   "source": [
    "df_test.to_csv('deep_bi.csv')"
   ]
  },
  {
   "cell_type": "code",
   "execution_count": null,
   "metadata": {},
   "outputs": [],
   "source": []
  }
 ],
 "metadata": {
  "kernelspec": {
   "display_name": "Python 3",
   "language": "python",
   "name": "python3"
  },
  "language_info": {
   "codemirror_mode": {
    "name": "ipython",
    "version": 3
   },
   "file_extension": ".py",
   "mimetype": "text/x-python",
   "name": "python",
   "nbconvert_exporter": "python",
   "pygments_lexer": "ipython3",
   "version": "3.7.7"
  }
 },
 "nbformat": 4,
 "nbformat_minor": 4
}
